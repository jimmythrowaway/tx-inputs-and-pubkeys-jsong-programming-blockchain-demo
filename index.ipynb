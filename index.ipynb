{
 "cells": [
  {
   "cell_type": "markdown",
   "metadata": {},
   "source": [
    "# Looking Up Transactions"
   ]
  },
  {
   "cell_type": "markdown",
   "metadata": {},
   "source": [
    "Example of how to look up a transaction using fetch_tx() method\n",
    "\n",
    "```python\n",
    "from tx import TxIn\n",
    "\n",
    "prev_tx = bytes.fromhex('d1c789a9c60383bf715f3f6ad9d14b91fe55f3deb369fe5d9280cb1a01793f81') \n",
    "tx_in = TxIn(prev_tx, 0, b'', 0xffffffff)\n",
    "print(tx_in.fetch_tx())\n",
    "```"
   ]
  },
  {
   "cell_type": "markdown",
   "metadata": {},
   "source": [
    "### Try it\n",
    "\n",
    "\n",
    "#### What is the value and scriptPubKey of the 0th output of this transaction?\n",
    "```\n",
    "d1c789a9c60383bf715f3f6ad9d14b91fe55f3deb369fe5d9280cb1a01793f81\n",
    "```"
   ]
  },
  {
   "cell_type": "code",
   "execution_count": 3,
   "metadata": {},
   "outputs": [
    {
     "name": "stdout",
     "output_type": "stream",
     "text": [
      "42505594:OP_DUP OP_HASH160 a802fc56c704ce87c42d7c92eb75e7896bdc41ae OP_EQUALVERIFY OP_CHECKSIG \n"
     ]
    }
   ],
   "source": [
    "from tx import TxIn\n",
    "\n",
    "prev_tx = bytes.fromhex('d1c789a9c60383bf715f3f6ad9d14b91fe55f3deb369fe5d9280cb1a01793f81') \n",
    "prev_index = 0\n",
    "tx_in = TxIn(prev_tx, prev_index, b'', 0xffffffff)\n",
    "print(tx_in.fetch_tx().tx_outs[prev_index])"
   ]
  },
  {
   "cell_type": "markdown",
   "metadata": {},
   "source": [
    "### Test Driven Exercise\n",
    "\n",
    "\n",
    "#### Bonus:\n",
    "#### Cache the requests so that you don't hit blockcypher.com multiple times for the same transaction output."
   ]
  },
  {
   "cell_type": "code",
   "execution_count": null,
   "metadata": {},
   "outputs": [],
   "source": [
    "from tx import TxIn\n",
    "\n",
    "class TxIn(TxIn):\n",
    "\n",
    "    def value(self, testnet=False):\n",
    "        '''Get the outpoint value by looking up the tx hash on libbitcoin server\n",
    "        Returns the amount in satoshi\n",
    "        '''\n",
    "        # use self.fetch_tx to get the transaction\n",
    "        prev_tx = self.fetch_tx()\n",
    "        # get the output at self.prev_index\n",
    "        tx_out = prev_tx.tx_outs[self.prev_index]\n",
    "        # return the amount property\n",
    "        return tx_out.amount\n",
    "\n",
    "    def script_pubkey(self, testnet=False):\n",
    "        '''Get the scriptPubKey by looking up the tx hash on libbitcoin server\n",
    "        Returns the binary scriptpubkey\n",
    "        '''\n",
    "        # use self.fetch_tx to get the transaction\n",
    "        # get the output at self.prev_index\n",
    "        # return the script_pubkey property\n",
    "        pass"
   ]
  }
 ],
 "metadata": {
  "kernelspec": {
   "display_name": "Python 3",
   "language": "python",
   "name": "python3"
  },
  "language_info": {
   "codemirror_mode": {
    "name": "ipython",
    "version": 3
   },
   "file_extension": ".py",
   "mimetype": "text/x-python",
   "name": "python",
   "nbconvert_exporter": "python",
   "pygments_lexer": "ipython3",
   "version": "3.6.4"
  }
 },
 "nbformat": 4,
 "nbformat_minor": 2
}
